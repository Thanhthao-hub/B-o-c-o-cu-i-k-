{
 "cells": [
  {
   "cell_type": "code",
   "execution_count": 6,
   "id": "b2484dac-3904-4af6-82ca-50974c91f612",
   "metadata": {},
   "outputs": [
    {
     "name": "stdout",
     "output_type": "stream",
     "text": [
      " Đã tạo file Excel thành công!\n"
     ]
    }
   ],
   "source": [
    "import pandas as pd\n",
    "import numpy as np\n",
    "import random\n",
    "\n",
    "#tạo số dòng dữ liệu\n",
    "so_du_lieu= 2400\n",
    "\n",
    "#tạo dữ liệu mẫu\n",
    "names=['Lê Thị A','Võ Văn B','Lê Văn C','Phạm Minh D', 'Nguyễn Thị E',0, None]\n",
    "ages=[18,19,21,22,'hai mươi',None]\n",
    "genders=['nam','nữ','Nam','Nữ','Khác',None]\n",
    "majors=['HTTTQL','CNTT','Kế toán','Logistic',None]\n",
    "cities=['Hà Nội','Tp.HCM','Đà Nẵng','Phan Thiết',00,'Cà Mau', None]\n",
    "emails=['abc1@gmail.com','abc2@gmail','123email.com','xyz123@@','user123@.com',None]\n",
    "phones=['0123456789','123b567c89','098abc4321','081 234 6579',None]\n",
    "grades=[8.5,9.5,9,8,'bảy',100,None]\n",
    "scholarship=[True,False,'Có','Không',None]\n",
    "notes=['Học tốt','Chưa đóng học phí','Thiếu giấy tờ',1,'Sai thông tin','Đã đóng học phí','Chưa đạt',None]\n",
    "\n",
    "#hàm ngày/tháng/năm\n",
    "def random_date():\n",
    "    dates=['%d-%m-%Y','%d/%m/%Y',None]\n",
    "    ax=random.choice(dates)\n",
    "    #kiểm tra xem biến có None thật không\n",
    "    if ax is None:\n",
    "        return None\n",
    "    return (pd.to_datetime('2024-01-01')+pd.to_timedelta(random.randint(0,180), unit='D')).strftime(ax)\n",
    "\n",
    "#tạo dữ liệu DataFrame\n",
    "data={\n",
    "    'Tên':[random.choice(names) for _ in range(du_lieu)],\n",
    "    'Tuổi':[random.choice(ages) for _ in range(du_lieu)],\n",
    "    'Giới tính':[random.choice(genders) for _ in range(du_lieu)],\n",
    "    'Ngày đăng ký':[random_date() for _ in range (du_lieu)],\n",
    "    'Chuyên ngành':[random.choice(majors) for _ in range(du_lieu)],\n",
    "    'Thành phố':[random.choice(cities) for _ in range (du_lieu)],\n",
    "    'Email':[random.choice(emails) for _ in range(du_lieu)],\n",
    "    'SĐT':[random.choice(phones) for _ in range (du_lieu)],\n",
    "    'Điểm TB':[random.choice(grades) for _ in range(du_lieu)],\n",
    "    'Học bổng':[random.choice(scholarship) for _ in range(du_lieu)],\n",
    "    'Ghi chú':[random.choice(notes) for _ in range(du_lieu)],\n",
    "    'Cột dư': ['Không']*du_lieu\n",
    "}\n",
    "        \n",
    "#tạo bảng dữ liệu\n",
    "sv = pd.DataFrame(data)\n",
    "sv.to_excel(\"Danh_sach_sinh_vien.xlsx\", index=False)\n",
    "print(' Đã tạo file Excel thành công!')"
   ]
  },
  {
   "cell_type": "code",
   "execution_count": null,
   "id": "fb8a789c-9a85-4581-a51f-110756157060",
   "metadata": {},
   "outputs": [],
   "source": []
  }
 ],
 "metadata": {
  "kernelspec": {
   "display_name": "Python 3 (ipykernel)",
   "language": "python",
   "name": "python3"
  },
  "language_info": {
   "codemirror_mode": {
    "name": "ipython",
    "version": 3
   },
   "file_extension": ".py",
   "mimetype": "text/x-python",
   "name": "python",
   "nbconvert_exporter": "python",
   "pygments_lexer": "ipython3",
   "version": "3.12.7"
  }
 },
 "nbformat": 4,
 "nbformat_minor": 5
}
